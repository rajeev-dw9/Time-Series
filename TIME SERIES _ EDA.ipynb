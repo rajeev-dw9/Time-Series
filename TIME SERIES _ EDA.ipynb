{
 "cells": [
  {
   "cell_type": "code",
   "execution_count": 47,
   "id": "younger-topic",
   "metadata": {},
   "outputs": [],
   "source": [
    "import pandas_datareader as pdr\n",
    "import pandas as pd\n",
    "from datetime import datetime"
   ]
  },
  {
   "cell_type": "code",
   "execution_count": 48,
   "id": "incredible-reservoir",
   "metadata": {},
   "outputs": [
    {
     "name": "stdout",
     "output_type": "stream",
     "text": [
      "Defaulting to user installation because normal site-packages is not writeable\n",
      "Requirement already satisfied: pandas-datareader in /home/francis/.local/lib/python3.8/site-packages (0.10.0)\n",
      "Requirement already satisfied: requests>=2.19.0 in /usr/lib/python3/dist-packages (from pandas-datareader) (2.22.0)\n",
      "Requirement already satisfied: pandas>=0.23 in /usr/local/lib/python3.8/dist-packages (from pandas-datareader) (1.3.0)\n",
      "Requirement already satisfied: lxml in /home/francis/.local/lib/python3.8/site-packages (from pandas-datareader) (4.8.0)\n",
      "Requirement already satisfied: pytz>=2017.3 in /usr/lib/python3/dist-packages (from pandas>=0.23->pandas-datareader) (2019.3)\n",
      "Requirement already satisfied: python-dateutil>=2.7.3 in /usr/lib/python3/dist-packages (from pandas>=0.23->pandas-datareader) (2.7.3)\n",
      "Requirement already satisfied: numpy>=1.17.3 in /home/francis/.local/lib/python3.8/site-packages (from pandas>=0.23->pandas-datareader) (1.21.1)\n"
     ]
    }
   ],
   "source": [
    "## Install Pandas Data Reader\n",
    "!pip install pandas-datareader"
   ]
  },
  {
   "cell_type": "code",
   "execution_count": 49,
   "id": "altered-petroleum",
   "metadata": {},
   "outputs": [],
   "source": [
    "df_amd=pdr.get_data_stooq('AMD')"
   ]
  },
  {
   "cell_type": "code",
   "execution_count": 50,
   "id": "brave-orleans",
   "metadata": {},
   "outputs": [
    {
     "data": {
      "text/html": [
       "<div>\n",
       "<style scoped>\n",
       "    .dataframe tbody tr th:only-of-type {\n",
       "        vertical-align: middle;\n",
       "    }\n",
       "\n",
       "    .dataframe tbody tr th {\n",
       "        vertical-align: top;\n",
       "    }\n",
       "\n",
       "    .dataframe thead th {\n",
       "        text-align: right;\n",
       "    }\n",
       "</style>\n",
       "<table border=\"1\" class=\"dataframe\">\n",
       "  <thead>\n",
       "    <tr style=\"text-align: right;\">\n",
       "      <th></th>\n",
       "      <th>Open</th>\n",
       "      <th>High</th>\n",
       "      <th>Low</th>\n",
       "      <th>Close</th>\n",
       "      <th>Volume</th>\n",
       "    </tr>\n",
       "    <tr>\n",
       "      <th>Date</th>\n",
       "      <th></th>\n",
       "      <th></th>\n",
       "      <th></th>\n",
       "      <th></th>\n",
       "      <th></th>\n",
       "    </tr>\n",
       "  </thead>\n",
       "  <tbody>\n",
       "    <tr>\n",
       "      <th>2022-02-25</th>\n",
       "      <td>117.16</td>\n",
       "      <td>121.230</td>\n",
       "      <td>116.0421</td>\n",
       "      <td>121.06</td>\n",
       "      <td>127820983</td>\n",
       "    </tr>\n",
       "    <tr>\n",
       "      <th>2022-02-24</th>\n",
       "      <td>104.56</td>\n",
       "      <td>116.960</td>\n",
       "      <td>104.2600</td>\n",
       "      <td>116.61</td>\n",
       "      <td>142956572</td>\n",
       "    </tr>\n",
       "    <tr>\n",
       "      <th>2022-02-23</th>\n",
       "      <td>117.40</td>\n",
       "      <td>118.650</td>\n",
       "      <td>109.0400</td>\n",
       "      <td>109.76</td>\n",
       "      <td>120299433</td>\n",
       "    </tr>\n",
       "    <tr>\n",
       "      <th>2022-02-22</th>\n",
       "      <td>115.27</td>\n",
       "      <td>119.200</td>\n",
       "      <td>113.6100</td>\n",
       "      <td>115.65</td>\n",
       "      <td>141648454</td>\n",
       "    </tr>\n",
       "    <tr>\n",
       "      <th>2022-02-18</th>\n",
       "      <td>113.90</td>\n",
       "      <td>115.635</td>\n",
       "      <td>109.8900</td>\n",
       "      <td>113.83</td>\n",
       "      <td>114321231</td>\n",
       "    </tr>\n",
       "    <tr>\n",
       "      <th>...</th>\n",
       "      <td>...</td>\n",
       "      <td>...</td>\n",
       "      <td>...</td>\n",
       "      <td>...</td>\n",
       "      <td>...</td>\n",
       "    </tr>\n",
       "    <tr>\n",
       "      <th>2017-03-06</th>\n",
       "      <td>13.00</td>\n",
       "      <td>13.340</td>\n",
       "      <td>12.3800</td>\n",
       "      <td>13.04</td>\n",
       "      <td>114792418</td>\n",
       "    </tr>\n",
       "    <tr>\n",
       "      <th>2017-03-03</th>\n",
       "      <td>13.55</td>\n",
       "      <td>13.580</td>\n",
       "      <td>12.7900</td>\n",
       "      <td>13.03</td>\n",
       "      <td>161199137</td>\n",
       "    </tr>\n",
       "    <tr>\n",
       "      <th>2017-03-02</th>\n",
       "      <td>14.59</td>\n",
       "      <td>14.780</td>\n",
       "      <td>13.8700</td>\n",
       "      <td>13.90</td>\n",
       "      <td>100814623</td>\n",
       "    </tr>\n",
       "    <tr>\n",
       "      <th>2017-03-01</th>\n",
       "      <td>15.08</td>\n",
       "      <td>15.090</td>\n",
       "      <td>14.5200</td>\n",
       "      <td>14.96</td>\n",
       "      <td>71114675</td>\n",
       "    </tr>\n",
       "    <tr>\n",
       "      <th>2017-02-28</th>\n",
       "      <td>15.45</td>\n",
       "      <td>15.550</td>\n",
       "      <td>14.3500</td>\n",
       "      <td>14.46</td>\n",
       "      <td>128574042</td>\n",
       "    </tr>\n",
       "  </tbody>\n",
       "</table>\n",
       "<p>1259 rows × 5 columns</p>\n",
       "</div>"
      ],
      "text/plain": [
       "              Open     High       Low   Close     Volume\n",
       "Date                                                    \n",
       "2022-02-25  117.16  121.230  116.0421  121.06  127820983\n",
       "2022-02-24  104.56  116.960  104.2600  116.61  142956572\n",
       "2022-02-23  117.40  118.650  109.0400  109.76  120299433\n",
       "2022-02-22  115.27  119.200  113.6100  115.65  141648454\n",
       "2022-02-18  113.90  115.635  109.8900  113.83  114321231\n",
       "...            ...      ...       ...     ...        ...\n",
       "2017-03-06   13.00   13.340   12.3800   13.04  114792418\n",
       "2017-03-03   13.55   13.580   12.7900   13.03  161199137\n",
       "2017-03-02   14.59   14.780   13.8700   13.90  100814623\n",
       "2017-03-01   15.08   15.090   14.5200   14.96   71114675\n",
       "2017-02-28   15.45   15.550   14.3500   14.46  128574042\n",
       "\n",
       "[1259 rows x 5 columns]"
      ]
     },
     "execution_count": 50,
     "metadata": {},
     "output_type": "execute_result"
    }
   ],
   "source": [
    "df_amd"
   ]
  },
  {
   "cell_type": "code",
   "execution_count": 51,
   "id": "final-praise",
   "metadata": {},
   "outputs": [
    {
     "data": {
      "text/plain": [
       "<matplotlib.axes._subplots.AxesSubplot at 0x7f5ae36adac0>"
      ]
     },
     "execution_count": 51,
     "metadata": {},
     "output_type": "execute_result"
    },
    {
     "data": {
      "image/png": "[encoded data removed]",
      "text/plain": [
       "<Figure size 864x288 with 1 Axes>"
      ]
     },
     "metadata": {
      "needs_background": "light"
     },
     "output_type": "display_data"
    }
   ],
   "source": [
    "df_amd['High'].plot(figsize=(12,4))\n"
   ]
  },
  {
   "cell_type": "code",
   "execution_count": 52,
   "id": "caroline-hurricane",
   "metadata": {},
   "outputs": [
    {
     "data": {
      "text/plain": [
       "<matplotlib.axes._subplots.AxesSubplot at 0x7f5ae36fb4c0>"
      ]
     },
     "execution_count": 52,
     "metadata": {},
     "output_type": "execute_result"
    },
    {
     "data": {
      "image/png": "[encoded data removed]",
      "text/plain": [
       "<Figure size 864x288 with 1 Axes>"
      ]
     },
     "metadata": {
      "needs_background": "light"
     },
     "output_type": "display_data"
    }
   ],
   "source": [
    "df_amd['Low'].plot(figsize=(12,4))"
   ]
  },
  {
   "cell_type": "code",
   "execution_count": 53,
   "id": "meaning-cursor",
   "metadata": {},
   "outputs": [
    {
     "data": {
      "text/plain": [
       "<matplotlib.axes._subplots.AxesSubplot at 0x7f5ae38f93d0>"
      ]
     },
     "execution_count": 53,
     "metadata": {},
     "output_type": "execute_result"
    },
    {
     "data": {
      "image/png": "[encoded data removed]",
      "text/plain": [
       "<Figure size 864x288 with 1 Axes>"
      ]
     },
     "metadata": {
      "needs_background": "light"
     },
     "output_type": "display_data"
    }
   ],
   "source": [
    "(df_amd['High'] - df_amd['Low']).plot(figsize=(12,4))"
   ]
  },
  {
   "cell_type": "code",
   "execution_count": 54,
   "id": "alpha-falls",
   "metadata": {},
   "outputs": [
    {
     "data": {
      "text/plain": [
       "<matplotlib.axes._subplots.AxesSubplot at 0x7f5ae39e0dc0>"
      ]
     },
     "execution_count": 54,
     "metadata": {},
     "output_type": "execute_result"
    },
    {
     "data": {
      "image/png": "[encoded data removed]",
      "text/plain": [
       "<Figure size 864x288 with 1 Axes>"
      ]
     },
     "metadata": {
      "needs_background": "light"
     },
     "output_type": "display_data"
    }
   ],
   "source": [
    "## xlimit and y limit\n",
    "df_amd['High'].plot(xlim=['2020-01-01','2021-09-01'],ylim=[0,120],ls='-',c='green',figsize=(12,4))"
   ]
  },
  {
   "cell_type": "code",
   "execution_count": 55,
   "id": "drawn-assistant",
   "metadata": {},
   "outputs": [
    {
     "data": {
      "text/plain": [
       "DatetimeIndex(['2022-02-25', '2022-02-24', '2022-02-23', '2022-02-22',\n",
       "               '2022-02-18', '2022-02-17', '2022-02-16', '2022-02-15',\n",
       "               '2022-02-14', '2022-02-11',\n",
       "               ...\n",
       "               '2017-03-13', '2017-03-10', '2017-03-09', '2017-03-08',\n",
       "               '2017-03-07', '2017-03-06', '2017-03-03', '2017-03-02',\n",
       "               '2017-03-01', '2017-02-28'],\n",
       "              dtype='datetime64[ns]', name='Date', length=1259, freq=None)"
      ]
     },
     "execution_count": 55,
     "metadata": {},
     "output_type": "execute_result"
    }
   ],
   "source": [
    "df_amd.index"
   ]
  },
  {
   "cell_type": "code",
   "execution_count": 56,
   "id": "prescribed-oxide",
   "metadata": {},
   "outputs": [],
   "source": [
    "index=df_amd.loc['2020-01-01':'2021-09-01'].index"
   ]
  },
  {
   "cell_type": "code",
   "execution_count": 57,
   "id": "viral-stopping",
   "metadata": {},
   "outputs": [],
   "source": [
    "share_open=df_amd.loc['2020-01-01':'2021-09-01']['Open']"
   ]
  },
  {
   "cell_type": "code",
   "execution_count": 58,
   "id": "incoming-malta",
   "metadata": {},
   "outputs": [
    {
     "data": {
      "text/plain": [
       "Date\n",
       "2021-09-01    111.30\n",
       "2021-08-31    111.26\n",
       "2021-08-30    112.61\n",
       "2021-08-27    108.01\n",
       "2021-08-26    108.57\n",
       "               ...  \n",
       "2020-01-08     47.85\n",
       "2020-01-07     49.35\n",
       "2020-01-06     48.02\n",
       "2020-01-03     48.03\n",
       "2020-01-02     46.86\n",
       "Name: Open, Length: 421, dtype: float64"
      ]
     },
     "execution_count": 58,
     "metadata": {},
     "output_type": "execute_result"
    }
   ],
   "source": [
    "share_open"
   ]
  },
  {
   "cell_type": "code",
   "execution_count": 60,
   "id": "right-discretion",
   "metadata": {},
   "outputs": [],
   "source": [
    "# Delete all variables \n",
    "# %reset\n",
    "# del x"
   ]
  },
  {
   "cell_type": "code",
   "execution_count": 62,
   "id": "enabling-acceptance",
   "metadata": {},
   "outputs": [],
   "source": [
    "import matplotlib.pyplot as plt\n",
    "%matplotlib inline"
   ]
  },
  {
   "cell_type": "code",
   "execution_count": 63,
   "id": "solar-sampling",
   "metadata": {},
   "outputs": [
    {
     "name": "stderr",
     "output_type": "stream",
     "text": [
      "/usr/lib/python3/dist-packages/matplotlib/cbook/__init__.py:1402: FutureWarning: Support for multi-dimensional indexing (e.g. `obj[:, None]`) is deprecated and will be removed in a future version.  Convert to a numpy array before indexing instead.\n",
      "  ndim = x[:, None].ndim\n",
      "/usr/lib/python3/dist-packages/matplotlib/cbook/__init__.py:1402: FutureWarning: Support for multi-dimensional indexing (e.g. `obj[:, None]`) is deprecated and will be removed in a future version.  Convert to a numpy array before indexing instead.\n",
      "  ndim = x[:, None].ndim\n",
      "/usr/lib/python3/dist-packages/matplotlib/axes/_base.py:276: FutureWarning: Support for multi-dimensional indexing (e.g. `obj[:, None]`) is deprecated and will be removed in a future version.  Convert to a numpy array before indexing instead.\n",
      "  x = x[:, np.newaxis]\n",
      "/usr/lib/python3/dist-packages/matplotlib/axes/_base.py:278: FutureWarning: Support for multi-dimensional indexing (e.g. `obj[:, None]`) is deprecated and will be removed in a future version.  Convert to a numpy array before indexing instead.\n",
      "  y = y[:, np.newaxis]\n"
     ]
    },
    {
     "data": {
      "text/plain": [
       "[<matplotlib.lines.Line2D at 0x7f5ae37b6340>]"
      ]
     },
     "execution_count": 63,
     "metadata": {},
     "output_type": "execute_result"
    },
    {
     "data": {
      "image/png": "[encoded data removed]",
      "text/plain": [
       "<Figure size 432x288 with 1 Axes>"
      ]
     },
     "metadata": {
      "needs_background": "light"
     },
     "output_type": "display_data"
    }
   ],
   "source": [
    "figure,axis=plt.subplots()\n",
    "plt.tight_layout()\n",
    "## Preventing overlapping\n",
    "figure.autofmt_xdate()\n",
    "axis.plot(index,share_open)\n"
   ]
  },
  {
   "cell_type": "code",
   "execution_count": 64,
   "id": "radio-feelings",
   "metadata": {},
   "outputs": [],
   "source": [
    "df_amd=df_amd.reset_index()"
   ]
  },
  {
   "cell_type": "code",
   "execution_count": 65,
   "id": "clear-recipe",
   "metadata": {},
   "outputs": [
    {
     "name": "stdout",
     "output_type": "stream",
     "text": [
      "<class 'pandas.core.frame.DataFrame'>\n",
      "RangeIndex: 1259 entries, 0 to 1258\n",
      "Data columns (total 6 columns):\n",
      " #   Column  Non-Null Count  Dtype         \n",
      "---  ------  --------------  -----         \n",
      " 0   Date    1259 non-null   datetime64[ns]\n",
      " 1   Open    1259 non-null   float64       \n",
      " 2   High    1259 non-null   float64       \n",
      " 3   Low     1259 non-null   float64       \n",
      " 4   Close   1259 non-null   float64       \n",
      " 5   Volume  1259 non-null   int64         \n",
      "dtypes: datetime64[ns](1), float64(4), int64(1)\n",
      "memory usage: 59.1 KB\n"
     ]
    }
   ],
   "source": [
    "df_amd.info()"
   ]
  },
  {
   "cell_type": "code",
   "execution_count": null,
   "id": "tested-mainstream",
   "metadata": {},
   "outputs": [],
   "source": []
  },
  {
   "cell_type": "code",
   "execution_count": 66,
   "id": "several-trial",
   "metadata": {},
   "outputs": [],
   "source": [
    "df_amd=df_amd.set_index('Date', drop=True)"
   ]
  },
  {
   "cell_type": "code",
   "execution_count": 67,
   "id": "robust-recipe",
   "metadata": {},
   "outputs": [
    {
     "data": {
      "text/html": [
       "<div>\n",
       "<style scoped>\n",
       "    .dataframe tbody tr th:only-of-type {\n",
       "        vertical-align: middle;\n",
       "    }\n",
       "\n",
       "    .dataframe tbody tr th {\n",
       "        vertical-align: top;\n",
       "    }\n",
       "\n",
       "    .dataframe thead th {\n",
       "        text-align: right;\n",
       "    }\n",
       "</style>\n",
       "<table border=\"1\" class=\"dataframe\">\n",
       "  <thead>\n",
       "    <tr style=\"text-align: right;\">\n",
       "      <th></th>\n",
       "      <th>Open</th>\n",
       "      <th>High</th>\n",
       "      <th>Low</th>\n",
       "      <th>Close</th>\n",
       "      <th>Volume</th>\n",
       "    </tr>\n",
       "    <tr>\n",
       "      <th>Date</th>\n",
       "      <th></th>\n",
       "      <th></th>\n",
       "      <th></th>\n",
       "      <th></th>\n",
       "      <th></th>\n",
       "    </tr>\n",
       "  </thead>\n",
       "  <tbody>\n",
       "    <tr>\n",
       "      <th>2022-02-25</th>\n",
       "      <td>117.16</td>\n",
       "      <td>121.230</td>\n",
       "      <td>116.0421</td>\n",
       "      <td>121.06</td>\n",
       "      <td>127820983</td>\n",
       "    </tr>\n",
       "    <tr>\n",
       "      <th>2022-02-24</th>\n",
       "      <td>104.56</td>\n",
       "      <td>116.960</td>\n",
       "      <td>104.2600</td>\n",
       "      <td>116.61</td>\n",
       "      <td>142956572</td>\n",
       "    </tr>\n",
       "    <tr>\n",
       "      <th>2022-02-23</th>\n",
       "      <td>117.40</td>\n",
       "      <td>118.650</td>\n",
       "      <td>109.0400</td>\n",
       "      <td>109.76</td>\n",
       "      <td>120299433</td>\n",
       "    </tr>\n",
       "    <tr>\n",
       "      <th>2022-02-22</th>\n",
       "      <td>115.27</td>\n",
       "      <td>119.200</td>\n",
       "      <td>113.6100</td>\n",
       "      <td>115.65</td>\n",
       "      <td>141648454</td>\n",
       "    </tr>\n",
       "    <tr>\n",
       "      <th>2022-02-18</th>\n",
       "      <td>113.90</td>\n",
       "      <td>115.635</td>\n",
       "      <td>109.8900</td>\n",
       "      <td>113.83</td>\n",
       "      <td>114321231</td>\n",
       "    </tr>\n",
       "  </tbody>\n",
       "</table>\n",
       "</div>"
      ],
      "text/plain": [
       "              Open     High       Low   Close     Volume\n",
       "Date                                                    \n",
       "2022-02-25  117.16  121.230  116.0421  121.06  127820983\n",
       "2022-02-24  104.56  116.960  104.2600  116.61  142956572\n",
       "2022-02-23  117.40  118.650  109.0400  109.76  120299433\n",
       "2022-02-22  115.27  119.200  113.6100  115.65  141648454\n",
       "2022-02-18  113.90  115.635  109.8900  113.83  114321231"
      ]
     },
     "execution_count": 67,
     "metadata": {},
     "output_type": "execute_result"
    }
   ],
   "source": [
    "df_amd.head()"
   ]
  },
  {
   "cell_type": "code",
   "execution_count": 69,
   "id": "inclusive-speaker",
   "metadata": {},
   "outputs": [],
   "source": [
    "## datetime\n",
    "from datetime import datetime"
   ]
  },
  {
   "cell_type": "markdown",
   "id": "speaking-survival",
   "metadata": {},
   "source": [
    "Time Resampling"
   ]
  },
  {
   "cell_type": "code",
   "execution_count": 70,
   "id": "veterinary-stopping",
   "metadata": {},
   "outputs": [
    {
     "data": {
      "text/html": [
       "<div>\n",
       "<style scoped>\n",
       "    .dataframe tbody tr th:only-of-type {\n",
       "        vertical-align: middle;\n",
       "    }\n",
       "\n",
       "    .dataframe tbody tr th {\n",
       "        vertical-align: top;\n",
       "    }\n",
       "\n",
       "    .dataframe thead th {\n",
       "        text-align: right;\n",
       "    }\n",
       "</style>\n",
       "<table border=\"1\" class=\"dataframe\">\n",
       "  <thead>\n",
       "    <tr style=\"text-align: right;\">\n",
       "      <th></th>\n",
       "      <th>Open</th>\n",
       "      <th>High</th>\n",
       "      <th>Low</th>\n",
       "      <th>Close</th>\n",
       "      <th>Volume</th>\n",
       "    </tr>\n",
       "    <tr>\n",
       "      <th>Date</th>\n",
       "      <th></th>\n",
       "      <th></th>\n",
       "      <th></th>\n",
       "      <th></th>\n",
       "      <th></th>\n",
       "    </tr>\n",
       "  </thead>\n",
       "  <tbody>\n",
       "    <tr>\n",
       "      <th>2017-12-31</th>\n",
       "      <td>9.89</td>\n",
       "      <td>10.0500</td>\n",
       "      <td>9.70</td>\n",
       "      <td>9.90</td>\n",
       "      <td>11035758</td>\n",
       "    </tr>\n",
       "    <tr>\n",
       "      <th>2018-12-31</th>\n",
       "      <td>9.08</td>\n",
       "      <td>9.7700</td>\n",
       "      <td>9.04</td>\n",
       "      <td>9.53</td>\n",
       "      <td>28875069</td>\n",
       "    </tr>\n",
       "    <tr>\n",
       "      <th>2019-12-31</th>\n",
       "      <td>17.55</td>\n",
       "      <td>18.6800</td>\n",
       "      <td>16.94</td>\n",
       "      <td>17.05</td>\n",
       "      <td>17609932</td>\n",
       "    </tr>\n",
       "    <tr>\n",
       "      <th>2020-12-31</th>\n",
       "      <td>39.08</td>\n",
       "      <td>41.7000</td>\n",
       "      <td>36.75</td>\n",
       "      <td>38.71</td>\n",
       "      <td>16705909</td>\n",
       "    </tr>\n",
       "    <tr>\n",
       "      <th>2021-12-31</th>\n",
       "      <td>73.16</td>\n",
       "      <td>75.0274</td>\n",
       "      <td>72.50</td>\n",
       "      <td>73.09</td>\n",
       "      <td>24310894</td>\n",
       "    </tr>\n",
       "    <tr>\n",
       "      <th>2022-12-31</th>\n",
       "      <td>101.55</td>\n",
       "      <td>105.4000</td>\n",
       "      <td>99.35</td>\n",
       "      <td>102.60</td>\n",
       "      <td>56589456</td>\n",
       "    </tr>\n",
       "  </tbody>\n",
       "</table>\n",
       "</div>"
      ],
      "text/plain": [
       "              Open      High    Low   Close    Volume\n",
       "Date                                                 \n",
       "2017-12-31    9.89   10.0500   9.70    9.90  11035758\n",
       "2018-12-31    9.08    9.7700   9.04    9.53  28875069\n",
       "2019-12-31   17.55   18.6800  16.94   17.05  17609932\n",
       "2020-12-31   39.08   41.7000  36.75   38.71  16705909\n",
       "2021-12-31   73.16   75.0274  72.50   73.09  24310894\n",
       "2022-12-31  101.55  105.4000  99.35  102.60  56589456"
      ]
     },
     "execution_count": 70,
     "metadata": {},
     "output_type": "execute_result"
    }
   ],
   "source": [
    "df_amd.resample(rule='A').min()"
   ]
  },
  {
   "cell_type": "code",
   "execution_count": 72,
   "id": "enhanced-massachusetts",
   "metadata": {},
   "outputs": [
    {
     "data": {
      "text/plain": [
       "<matplotlib.axes._subplots.AxesSubplot at 0x7f5ae099d130>"
      ]
     },
     "execution_count": 72,
     "metadata": {},
     "output_type": "execute_result"
    },
    {
     "data": {
      "image/png": "[encoded data removed]",
      "text/plain": [
       "<Figure size 432x288 with 1 Axes>"
      ]
     },
     "metadata": {
      "needs_background": "light"
     },
     "output_type": "display_data"
    }
   ],
   "source": [
    "##year end frequency\n",
    "df_amd.resample(rule='A').max()['Open'].plot()"
   ]
  },
  {
   "cell_type": "code",
   "execution_count": 74,
   "id": "extra-somalia",
   "metadata": {},
   "outputs": [
    {
     "data": {
      "text/plain": [
       "<matplotlib.axes._subplots.AxesSubplot at 0x7f5ae013a490>"
      ]
     },
     "execution_count": 74,
     "metadata": {},
     "output_type": "execute_result"
    },
    {
     "data": {
      "image/png": "[encoded data removed]",
      "text/plain": [
       "<Figure size 432x288 with 1 Axes>"
      ]
     },
     "metadata": {
      "needs_background": "light"
     },
     "output_type": "display_data"
    }
   ],
   "source": [
    "##quaterly start frequency\n",
    "##https://towardsdatascience.com/resample-function-of-pandas-79b17ec82a78\n",
    "df_amd.resample(rule='QS').max()['High'].plot()"
   ]
  },
  {
   "cell_type": "code",
   "execution_count": 75,
   "id": "ethical-possible",
   "metadata": {},
   "outputs": [
    {
     "data": {
      "text/html": [
       "<div>\n",
       "<style scoped>\n",
       "    .dataframe tbody tr th:only-of-type {\n",
       "        vertical-align: middle;\n",
       "    }\n",
       "\n",
       "    .dataframe tbody tr th {\n",
       "        vertical-align: top;\n",
       "    }\n",
       "\n",
       "    .dataframe thead th {\n",
       "        text-align: right;\n",
       "    }\n",
       "</style>\n",
       "<table border=\"1\" class=\"dataframe\">\n",
       "  <thead>\n",
       "    <tr style=\"text-align: right;\">\n",
       "      <th></th>\n",
       "      <th>Open</th>\n",
       "      <th>High</th>\n",
       "      <th>Low</th>\n",
       "      <th>Close</th>\n",
       "      <th>Volume</th>\n",
       "    </tr>\n",
       "    <tr>\n",
       "      <th>Date</th>\n",
       "      <th></th>\n",
       "      <th></th>\n",
       "      <th></th>\n",
       "      <th></th>\n",
       "      <th></th>\n",
       "    </tr>\n",
       "  </thead>\n",
       "  <tbody>\n",
       "    <tr>\n",
       "      <th>2017-12-29</th>\n",
       "      <td>15.45</td>\n",
       "      <td>15.6500</td>\n",
       "      <td>14.520</td>\n",
       "      <td>14.96</td>\n",
       "      <td>267705403</td>\n",
       "    </tr>\n",
       "    <tr>\n",
       "      <th>2018-12-31</th>\n",
       "      <td>33.18</td>\n",
       "      <td>34.1400</td>\n",
       "      <td>32.190</td>\n",
       "      <td>32.72</td>\n",
       "      <td>325058416</td>\n",
       "    </tr>\n",
       "    <tr>\n",
       "      <th>2019-12-31</th>\n",
       "      <td>46.99</td>\n",
       "      <td>47.3100</td>\n",
       "      <td>45.975</td>\n",
       "      <td>46.63</td>\n",
       "      <td>211421150</td>\n",
       "    </tr>\n",
       "    <tr>\n",
       "      <th>2020-12-31</th>\n",
       "      <td>97.55</td>\n",
       "      <td>97.9800</td>\n",
       "      <td>96.250</td>\n",
       "      <td>97.12</td>\n",
       "      <td>205314531</td>\n",
       "    </tr>\n",
       "    <tr>\n",
       "      <th>2021-12-31</th>\n",
       "      <td>163.28</td>\n",
       "      <td>164.4599</td>\n",
       "      <td>156.100</td>\n",
       "      <td>161.91</td>\n",
       "      <td>225368699</td>\n",
       "    </tr>\n",
       "    <tr>\n",
       "      <th>2022-12-30</th>\n",
       "      <td>151.01</td>\n",
       "      <td>152.4200</td>\n",
       "      <td>145.020</td>\n",
       "      <td>150.24</td>\n",
       "      <td>180064993</td>\n",
       "    </tr>\n",
       "  </tbody>\n",
       "</table>\n",
       "</div>"
      ],
      "text/plain": [
       "              Open      High      Low   Close     Volume\n",
       "Date                                                    \n",
       "2017-12-29   15.45   15.6500   14.520   14.96  267705403\n",
       "2018-12-31   33.18   34.1400   32.190   32.72  325058416\n",
       "2019-12-31   46.99   47.3100   45.975   46.63  211421150\n",
       "2020-12-31   97.55   97.9800   96.250   97.12  205314531\n",
       "2021-12-31  163.28  164.4599  156.100  161.91  225368699\n",
       "2022-12-30  151.01  152.4200  145.020  150.24  180064993"
      ]
     },
     "execution_count": 75,
     "metadata": {},
     "output_type": "execute_result"
    }
   ],
   "source": [
    "##Business End Frequency\n",
    "##https://towardsdatascience.com/resample-function-of-pandas-79b17ec82a78\n",
    "df_amd.resample(rule='BA').max()"
   ]
  },
  {
   "cell_type": "code",
   "execution_count": 76,
   "id": "moving-magazine",
   "metadata": {},
   "outputs": [
    {
     "data": {
      "text/html": [
       "<div>\n",
       "<style scoped>\n",
       "    .dataframe tbody tr th:only-of-type {\n",
       "        vertical-align: middle;\n",
       "    }\n",
       "\n",
       "    .dataframe tbody tr th {\n",
       "        vertical-align: top;\n",
       "    }\n",
       "\n",
       "    .dataframe thead th {\n",
       "        text-align: right;\n",
       "    }\n",
       "</style>\n",
       "<table border=\"1\" class=\"dataframe\">\n",
       "  <thead>\n",
       "    <tr style=\"text-align: right;\">\n",
       "      <th></th>\n",
       "      <th>Open</th>\n",
       "      <th>High</th>\n",
       "      <th>Low</th>\n",
       "      <th>Close</th>\n",
       "      <th>Volume</th>\n",
       "    </tr>\n",
       "    <tr>\n",
       "      <th>Date</th>\n",
       "      <th></th>\n",
       "      <th></th>\n",
       "      <th></th>\n",
       "      <th></th>\n",
       "      <th></th>\n",
       "    </tr>\n",
       "  </thead>\n",
       "  <tbody>\n",
       "    <tr>\n",
       "      <th>2017-01-02</th>\n",
       "      <td>15.45</td>\n",
       "      <td>15.5500</td>\n",
       "      <td>14.5200</td>\n",
       "      <td>14.96</td>\n",
       "      <td>161199137</td>\n",
       "    </tr>\n",
       "    <tr>\n",
       "      <th>2017-04-03</th>\n",
       "      <td>14.60</td>\n",
       "      <td>14.7400</td>\n",
       "      <td>14.3000</td>\n",
       "      <td>14.64</td>\n",
       "      <td>267705403</td>\n",
       "    </tr>\n",
       "    <tr>\n",
       "      <th>2017-07-03</th>\n",
       "      <td>15.13</td>\n",
       "      <td>15.6500</td>\n",
       "      <td>14.4000</td>\n",
       "      <td>14.76</td>\n",
       "      <td>235646236</td>\n",
       "    </tr>\n",
       "    <tr>\n",
       "      <th>2017-10-02</th>\n",
       "      <td>14.32</td>\n",
       "      <td>14.4100</td>\n",
       "      <td>14.1500</td>\n",
       "      <td>14.26</td>\n",
       "      <td>166437384</td>\n",
       "    </tr>\n",
       "    <tr>\n",
       "      <th>2018-01-01</th>\n",
       "      <td>13.62</td>\n",
       "      <td>13.8500</td>\n",
       "      <td>13.2100</td>\n",
       "      <td>13.74</td>\n",
       "      <td>174302560</td>\n",
       "    </tr>\n",
       "    <tr>\n",
       "      <th>2018-04-02</th>\n",
       "      <td>16.85</td>\n",
       "      <td>17.3400</td>\n",
       "      <td>16.3700</td>\n",
       "      <td>17.11</td>\n",
       "      <td>145284090</td>\n",
       "    </tr>\n",
       "    <tr>\n",
       "      <th>2018-07-02</th>\n",
       "      <td>33.18</td>\n",
       "      <td>34.1400</td>\n",
       "      <td>32.1900</td>\n",
       "      <td>32.72</td>\n",
       "      <td>325058416</td>\n",
       "    </tr>\n",
       "    <tr>\n",
       "      <th>2018-10-01</th>\n",
       "      <td>30.73</td>\n",
       "      <td>31.9100</td>\n",
       "      <td>30.2500</td>\n",
       "      <td>31.42</td>\n",
       "      <td>190137198</td>\n",
       "    </tr>\n",
       "    <tr>\n",
       "      <th>2019-01-01</th>\n",
       "      <td>27.54</td>\n",
       "      <td>28.1100</td>\n",
       "      <td>26.3300</td>\n",
       "      <td>27.89</td>\n",
       "      <td>211421150</td>\n",
       "    </tr>\n",
       "    <tr>\n",
       "      <th>2019-04-01</th>\n",
       "      <td>33.53</td>\n",
       "      <td>34.3000</td>\n",
       "      <td>33.0800</td>\n",
       "      <td>33.23</td>\n",
       "      <td>197650478</td>\n",
       "    </tr>\n",
       "    <tr>\n",
       "      <th>2019-07-01</th>\n",
       "      <td>34.30</td>\n",
       "      <td>35.5500</td>\n",
       "      <td>33.8650</td>\n",
       "      <td>34.39</td>\n",
       "      <td>167278810</td>\n",
       "    </tr>\n",
       "    <tr>\n",
       "      <th>2019-10-01</th>\n",
       "      <td>46.99</td>\n",
       "      <td>47.3100</td>\n",
       "      <td>45.9750</td>\n",
       "      <td>46.63</td>\n",
       "      <td>94600235</td>\n",
       "    </tr>\n",
       "    <tr>\n",
       "      <th>2020-01-01</th>\n",
       "      <td>58.44</td>\n",
       "      <td>59.2700</td>\n",
       "      <td>57.5100</td>\n",
       "      <td>58.90</td>\n",
       "      <td>141972288</td>\n",
       "    </tr>\n",
       "    <tr>\n",
       "      <th>2020-04-01</th>\n",
       "      <td>57.44</td>\n",
       "      <td>59.0000</td>\n",
       "      <td>57.0300</td>\n",
       "      <td>57.44</td>\n",
       "      <td>123906390</td>\n",
       "    </tr>\n",
       "    <tr>\n",
       "      <th>2020-07-01</th>\n",
       "      <td>94.01</td>\n",
       "      <td>94.2800</td>\n",
       "      <td>90.1899</td>\n",
       "      <td>92.18</td>\n",
       "      <td>205314531</td>\n",
       "    </tr>\n",
       "    <tr>\n",
       "      <th>2020-10-01</th>\n",
       "      <td>97.55</td>\n",
       "      <td>97.9800</td>\n",
       "      <td>96.2500</td>\n",
       "      <td>97.12</td>\n",
       "      <td>156669494</td>\n",
       "    </tr>\n",
       "    <tr>\n",
       "      <th>2021-01-01</th>\n",
       "      <td>97.86</td>\n",
       "      <td>99.2300</td>\n",
       "      <td>94.0700</td>\n",
       "      <td>97.25</td>\n",
       "      <td>73341193</td>\n",
       "    </tr>\n",
       "    <tr>\n",
       "      <th>2021-04-01</th>\n",
       "      <td>90.82</td>\n",
       "      <td>94.3350</td>\n",
       "      <td>90.6000</td>\n",
       "      <td>93.93</td>\n",
       "      <td>108920306</td>\n",
       "    </tr>\n",
       "    <tr>\n",
       "      <th>2021-07-01</th>\n",
       "      <td>116.63</td>\n",
       "      <td>122.4900</td>\n",
       "      <td>114.1600</td>\n",
       "      <td>118.77</td>\n",
       "      <td>225368699</td>\n",
       "    </tr>\n",
       "    <tr>\n",
       "      <th>2021-10-01</th>\n",
       "      <td>163.28</td>\n",
       "      <td>164.4599</td>\n",
       "      <td>156.1000</td>\n",
       "      <td>161.91</td>\n",
       "      <td>141493842</td>\n",
       "    </tr>\n",
       "    <tr>\n",
       "      <th>2022-01-03</th>\n",
       "      <td>151.01</td>\n",
       "      <td>152.4200</td>\n",
       "      <td>145.0200</td>\n",
       "      <td>150.24</td>\n",
       "      <td>180064993</td>\n",
       "    </tr>\n",
       "  </tbody>\n",
       "</table>\n",
       "</div>"
      ],
      "text/plain": [
       "              Open      High       Low   Close     Volume\n",
       "Date                                                     \n",
       "2017-01-02   15.45   15.5500   14.5200   14.96  161199137\n",
       "2017-04-03   14.60   14.7400   14.3000   14.64  267705403\n",
       "2017-07-03   15.13   15.6500   14.4000   14.76  235646236\n",
       "2017-10-02   14.32   14.4100   14.1500   14.26  166437384\n",
       "2018-01-01   13.62   13.8500   13.2100   13.74  174302560\n",
       "2018-04-02   16.85   17.3400   16.3700   17.11  145284090\n",
       "2018-07-02   33.18   34.1400   32.1900   32.72  325058416\n",
       "2018-10-01   30.73   31.9100   30.2500   31.42  190137198\n",
       "2019-01-01   27.54   28.1100   26.3300   27.89  211421150\n",
       "2019-04-01   33.53   34.3000   33.0800   33.23  197650478\n",
       "2019-07-01   34.30   35.5500   33.8650   34.39  167278810\n",
       "2019-10-01   46.99   47.3100   45.9750   46.63   94600235\n",
       "2020-01-01   58.44   59.2700   57.5100   58.90  141972288\n",
       "2020-04-01   57.44   59.0000   57.0300   57.44  123906390\n",
       "2020-07-01   94.01   94.2800   90.1899   92.18  205314531\n",
       "2020-10-01   97.55   97.9800   96.2500   97.12  156669494\n",
       "2021-01-01   97.86   99.2300   94.0700   97.25   73341193\n",
       "2021-04-01   90.82   94.3350   90.6000   93.93  108920306\n",
       "2021-07-01  116.63  122.4900  114.1600  118.77  225368699\n",
       "2021-10-01  163.28  164.4599  156.1000  161.91  141493842\n",
       "2022-01-03  151.01  152.4200  145.0200  150.24  180064993"
      ]
     },
     "execution_count": 76,
     "metadata": {},
     "output_type": "execute_result"
    }
   ],
   "source": [
    "df_amd.resample(rule='BQS').max()"
   ]
  },
  {
   "cell_type": "code",
   "execution_count": 77,
   "id": "fresh-corporation",
   "metadata": {},
   "outputs": [
    {
     "data": {
      "text/plain": [
       "<matplotlib.axes._subplots.AxesSubplot at 0x7f5ae0100190>"
      ]
     },
     "execution_count": 77,
     "metadata": {},
     "output_type": "execute_result"
    },
    {
     "data": {
      "image/png": "[encoded data removed]",
      "text/plain": [
       "<Figure size 432x288 with 1 Axes>"
      ]
     },
     "metadata": {
      "needs_background": "light"
     },
     "output_type": "display_data"
    }
   ],
   "source": [
    "##plotting\n",
    "df_amd['Open'].resample(rule='A').mean().plot(kind='bar')"
   ]
  },
  {
   "cell_type": "code",
   "execution_count": 78,
   "id": "floral-barrel",
   "metadata": {},
   "outputs": [
    {
     "data": {
      "text/plain": [
       "<matplotlib.axes._subplots.AxesSubplot at 0x7f5ae0158820>"
      ]
     },
     "execution_count": 78,
     "metadata": {},
     "output_type": "execute_result"
    },
    {
     "data": {
      "image/png": "[encoded data removed]",
      "text/plain": [
       "<Figure size 1080x432 with 1 Axes>"
      ]
     },
     "metadata": {
      "needs_background": "light"
     },
     "output_type": "display_data"
    }
   ],
   "source": [
    "df_amd['Open'].resample(rule='M').max().plot(kind='bar',figsize=(15,6))"
   ]
  },
  {
   "cell_type": "code",
   "execution_count": 84,
   "id": "critical-dylan",
   "metadata": {},
   "outputs": [
    {
     "data": {
      "text/plain": [
       "Date\n",
       "2022-02-25         NaN\n",
       "2022-02-24         NaN\n",
       "2022-02-23         NaN\n",
       "2022-02-22         NaN\n",
       "2022-02-18         NaN\n",
       "2022-02-17         NaN\n",
       "2022-02-16         NaN\n",
       "2022-02-15         NaN\n",
       "2022-02-14         NaN\n",
       "2022-02-11         NaN\n",
       "2022-02-10    131.7589\n",
       "2022-02-09    132.9600\n",
       "2022-02-08    132.9600\n",
       "2022-02-07    132.9600\n",
       "2022-02-04    132.9600\n",
       "2022-02-03    132.9600\n",
       "2022-02-02    132.9600\n",
       "2022-02-01    132.9600\n",
       "2022-01-31    132.9600\n",
       "2022-01-28    132.9600\n",
       "2022-01-27    132.9600\n",
       "2022-01-26    132.9600\n",
       "2022-01-25    130.0600\n",
       "2022-01-24    130.0600\n",
       "2022-01-21    130.0600\n",
       "2022-01-20    130.0600\n",
       "2022-01-19    134.5700\n",
       "2022-01-18    136.3893\n",
       "2022-01-14    137.0000\n",
       "2022-01-13    141.2500\n",
       "Name: High, dtype: float64"
      ]
     },
     "execution_count": 84,
     "metadata": {},
     "output_type": "execute_result"
    }
   ],
   "source": [
    "df_amd['High'].rolling(11).max().head(30)"
   ]
  },
  {
   "cell_type": "code",
   "execution_count": 85,
   "id": "respiratory-priest",
   "metadata": {},
   "outputs": [],
   "source": [
    "df_amd['Open:30 days rolling']=df_amd['Open'].rolling(30).mean()"
   ]
  },
  {
   "cell_type": "code",
   "execution_count": 87,
   "id": "northern-mention",
   "metadata": {},
   "outputs": [
    {
     "data": {
      "text/html": [
       "<div>\n",
       "<style scoped>\n",
       "    .dataframe tbody tr th:only-of-type {\n",
       "        vertical-align: middle;\n",
       "    }\n",
       "\n",
       "    .dataframe tbody tr th {\n",
       "        vertical-align: top;\n",
       "    }\n",
       "\n",
       "    .dataframe thead th {\n",
       "        text-align: right;\n",
       "    }\n",
       "</style>\n",
       "<table border=\"1\" class=\"dataframe\">\n",
       "  <thead>\n",
       "    <tr style=\"text-align: right;\">\n",
       "      <th></th>\n",
       "      <th>Open</th>\n",
       "      <th>High</th>\n",
       "      <th>Low</th>\n",
       "      <th>Close</th>\n",
       "      <th>Volume</th>\n",
       "      <th>Open:30 days rolling</th>\n",
       "    </tr>\n",
       "    <tr>\n",
       "      <th>Date</th>\n",
       "      <th></th>\n",
       "      <th></th>\n",
       "      <th></th>\n",
       "      <th></th>\n",
       "      <th></th>\n",
       "      <th></th>\n",
       "    </tr>\n",
       "  </thead>\n",
       "  <tbody>\n",
       "    <tr>\n",
       "      <th>2022-02-25</th>\n",
       "      <td>117.160</td>\n",
       "      <td>121.2300</td>\n",
       "      <td>116.0421</td>\n",
       "      <td>121.06</td>\n",
       "      <td>127820983</td>\n",
       "      <td>NaN</td>\n",
       "    </tr>\n",
       "    <tr>\n",
       "      <th>2022-02-24</th>\n",
       "      <td>104.560</td>\n",
       "      <td>116.9600</td>\n",
       "      <td>104.2600</td>\n",
       "      <td>116.61</td>\n",
       "      <td>142956572</td>\n",
       "      <td>NaN</td>\n",
       "    </tr>\n",
       "    <tr>\n",
       "      <th>2022-02-23</th>\n",
       "      <td>117.400</td>\n",
       "      <td>118.6500</td>\n",
       "      <td>109.0400</td>\n",
       "      <td>109.76</td>\n",
       "      <td>120299433</td>\n",
       "      <td>NaN</td>\n",
       "    </tr>\n",
       "    <tr>\n",
       "      <th>2022-02-22</th>\n",
       "      <td>115.270</td>\n",
       "      <td>119.2000</td>\n",
       "      <td>113.6100</td>\n",
       "      <td>115.65</td>\n",
       "      <td>141648454</td>\n",
       "      <td>NaN</td>\n",
       "    </tr>\n",
       "    <tr>\n",
       "      <th>2022-02-18</th>\n",
       "      <td>113.900</td>\n",
       "      <td>115.6350</td>\n",
       "      <td>109.8900</td>\n",
       "      <td>113.83</td>\n",
       "      <td>114321231</td>\n",
       "      <td>NaN</td>\n",
       "    </tr>\n",
       "    <tr>\n",
       "      <th>2022-02-17</th>\n",
       "      <td>116.260</td>\n",
       "      <td>116.9800</td>\n",
       "      <td>112.2600</td>\n",
       "      <td>112.37</td>\n",
       "      <td>98179641</td>\n",
       "      <td>NaN</td>\n",
       "    </tr>\n",
       "    <tr>\n",
       "      <th>2022-02-16</th>\n",
       "      <td>119.050</td>\n",
       "      <td>119.5400</td>\n",
       "      <td>114.2200</td>\n",
       "      <td>117.69</td>\n",
       "      <td>119109631</td>\n",
       "      <td>NaN</td>\n",
       "    </tr>\n",
       "    <tr>\n",
       "      <th>2022-02-15</th>\n",
       "      <td>117.190</td>\n",
       "      <td>121.8800</td>\n",
       "      <td>114.3600</td>\n",
       "      <td>121.47</td>\n",
       "      <td>144139671</td>\n",
       "      <td>NaN</td>\n",
       "    </tr>\n",
       "    <tr>\n",
       "      <th>2022-02-14</th>\n",
       "      <td>115.510</td>\n",
       "      <td>118.3700</td>\n",
       "      <td>113.4600</td>\n",
       "      <td>114.27</td>\n",
       "      <td>135146410</td>\n",
       "      <td>NaN</td>\n",
       "    </tr>\n",
       "    <tr>\n",
       "      <th>2022-02-11</th>\n",
       "      <td>126.140</td>\n",
       "      <td>127.1699</td>\n",
       "      <td>111.8100</td>\n",
       "      <td>113.18</td>\n",
       "      <td>164723241</td>\n",
       "      <td>NaN</td>\n",
       "    </tr>\n",
       "    <tr>\n",
       "      <th>2022-02-10</th>\n",
       "      <td>128.840</td>\n",
       "      <td>131.7589</td>\n",
       "      <td>124.6100</td>\n",
       "      <td>125.77</td>\n",
       "      <td>108939859</td>\n",
       "      <td>NaN</td>\n",
       "    </tr>\n",
       "    <tr>\n",
       "      <th>2022-02-09</th>\n",
       "      <td>129.600</td>\n",
       "      <td>132.9600</td>\n",
       "      <td>127.6500</td>\n",
       "      <td>132.85</td>\n",
       "      <td>92948862</td>\n",
       "      <td>NaN</td>\n",
       "    </tr>\n",
       "    <tr>\n",
       "      <th>2022-02-08</th>\n",
       "      <td>122.380</td>\n",
       "      <td>128.7050</td>\n",
       "      <td>122.0500</td>\n",
       "      <td>128.23</td>\n",
       "      <td>84902753</td>\n",
       "      <td>NaN</td>\n",
       "    </tr>\n",
       "    <tr>\n",
       "      <th>2022-02-07</th>\n",
       "      <td>123.560</td>\n",
       "      <td>127.6300</td>\n",
       "      <td>122.7850</td>\n",
       "      <td>123.67</td>\n",
       "      <td>81672504</td>\n",
       "      <td>NaN</td>\n",
       "    </tr>\n",
       "    <tr>\n",
       "      <th>2022-02-04</th>\n",
       "      <td>120.340</td>\n",
       "      <td>124.9600</td>\n",
       "      <td>118.5800</td>\n",
       "      <td>123.60</td>\n",
       "      <td>86212008</td>\n",
       "      <td>NaN</td>\n",
       "    </tr>\n",
       "    <tr>\n",
       "      <th>2022-02-03</th>\n",
       "      <td>120.320</td>\n",
       "      <td>125.3700</td>\n",
       "      <td>118.8160</td>\n",
       "      <td>120.08</td>\n",
       "      <td>103599467</td>\n",
       "      <td>NaN</td>\n",
       "    </tr>\n",
       "    <tr>\n",
       "      <th>2022-02-02</th>\n",
       "      <td>129.970</td>\n",
       "      <td>130.0600</td>\n",
       "      <td>120.6400</td>\n",
       "      <td>122.76</td>\n",
       "      <td>180064993</td>\n",
       "      <td>NaN</td>\n",
       "    </tr>\n",
       "    <tr>\n",
       "      <th>2022-02-01</th>\n",
       "      <td>116.750</td>\n",
       "      <td>117.2600</td>\n",
       "      <td>112.7300</td>\n",
       "      <td>116.78</td>\n",
       "      <td>122467874</td>\n",
       "      <td>NaN</td>\n",
       "    </tr>\n",
       "    <tr>\n",
       "      <th>2022-01-31</th>\n",
       "      <td>107.930</td>\n",
       "      <td>114.3100</td>\n",
       "      <td>106.9000</td>\n",
       "      <td>114.25</td>\n",
       "      <td>97205994</td>\n",
       "      <td>NaN</td>\n",
       "    </tr>\n",
       "    <tr>\n",
       "      <th>2022-01-28</th>\n",
       "      <td>101.550</td>\n",
       "      <td>105.4000</td>\n",
       "      <td>99.3500</td>\n",
       "      <td>105.24</td>\n",
       "      <td>98749521</td>\n",
       "      <td>NaN</td>\n",
       "    </tr>\n",
       "    <tr>\n",
       "      <th>2022-01-27</th>\n",
       "      <td>111.960</td>\n",
       "      <td>112.7500</td>\n",
       "      <td>101.9400</td>\n",
       "      <td>102.60</td>\n",
       "      <td>125954124</td>\n",
       "      <td>NaN</td>\n",
       "    </tr>\n",
       "    <tr>\n",
       "      <th>2022-01-26</th>\n",
       "      <td>114.550</td>\n",
       "      <td>117.1600</td>\n",
       "      <td>108.6300</td>\n",
       "      <td>110.71</td>\n",
       "      <td>94752613</td>\n",
       "      <td>NaN</td>\n",
       "    </tr>\n",
       "    <tr>\n",
       "      <th>2022-01-25</th>\n",
       "      <td>114.100</td>\n",
       "      <td>114.8200</td>\n",
       "      <td>109.8600</td>\n",
       "      <td>111.13</td>\n",
       "      <td>85102907</td>\n",
       "      <td>NaN</td>\n",
       "    </tr>\n",
       "    <tr>\n",
       "      <th>2022-01-24</th>\n",
       "      <td>115.400</td>\n",
       "      <td>116.7700</td>\n",
       "      <td>107.5000</td>\n",
       "      <td>116.53</td>\n",
       "      <td>116301816</td>\n",
       "      <td>NaN</td>\n",
       "    </tr>\n",
       "    <tr>\n",
       "      <th>2022-01-21</th>\n",
       "      <td>120.140</td>\n",
       "      <td>125.0200</td>\n",
       "      <td>118.3900</td>\n",
       "      <td>118.81</td>\n",
       "      <td>95685268</td>\n",
       "      <td>NaN</td>\n",
       "    </tr>\n",
       "    <tr>\n",
       "      <th>2022-01-20</th>\n",
       "      <td>126.040</td>\n",
       "      <td>128.5100</td>\n",
       "      <td>121.4100</td>\n",
       "      <td>121.89</td>\n",
       "      <td>91157293</td>\n",
       "      <td>NaN</td>\n",
       "    </tr>\n",
       "    <tr>\n",
       "      <th>2022-01-19</th>\n",
       "      <td>133.550</td>\n",
       "      <td>134.5700</td>\n",
       "      <td>128.0200</td>\n",
       "      <td>128.27</td>\n",
       "      <td>69831849</td>\n",
       "      <td>NaN</td>\n",
       "    </tr>\n",
       "    <tr>\n",
       "      <th>2022-01-18</th>\n",
       "      <td>134.500</td>\n",
       "      <td>136.3893</td>\n",
       "      <td>131.5900</td>\n",
       "      <td>131.93</td>\n",
       "      <td>56589456</td>\n",
       "      <td>NaN</td>\n",
       "    </tr>\n",
       "    <tr>\n",
       "      <th>2022-01-14</th>\n",
       "      <td>131.680</td>\n",
       "      <td>137.0000</td>\n",
       "      <td>131.4300</td>\n",
       "      <td>136.88</td>\n",
       "      <td>71078438</td>\n",
       "      <td>NaN</td>\n",
       "    </tr>\n",
       "    <tr>\n",
       "      <th>2022-01-13</th>\n",
       "      <td>139.440</td>\n",
       "      <td>141.2500</td>\n",
       "      <td>131.8100</td>\n",
       "      <td>132.74</td>\n",
       "      <td>76618059</td>\n",
       "      <td>120.168000</td>\n",
       "    </tr>\n",
       "    <tr>\n",
       "      <th>2022-01-12</th>\n",
       "      <td>138.585</td>\n",
       "      <td>140.5700</td>\n",
       "      <td>135.7700</td>\n",
       "      <td>137.47</td>\n",
       "      <td>69669598</td>\n",
       "      <td>120.882167</td>\n",
       "    </tr>\n",
       "  </tbody>\n",
       "</table>\n",
       "</div>"
      ],
      "text/plain": [
       "               Open      High       Low   Close     Volume  \\\n",
       "Date                                                         \n",
       "2022-02-25  117.160  121.2300  116.0421  121.06  127820983   \n",
       "2022-02-24  104.560  116.9600  104.2600  116.61  142956572   \n",
       "2022-02-23  117.400  118.6500  109.0400  109.76  120299433   \n",
       "2022-02-22  115.270  119.2000  113.6100  115.65  141648454   \n",
       "2022-02-18  113.900  115.6350  109.8900  113.83  114321231   \n",
       "2022-02-17  116.260  116.9800  112.2600  112.37   98179641   \n",
       "2022-02-16  119.050  119.5400  114.2200  117.69  119109631   \n",
       "2022-02-15  117.190  121.8800  114.3600  121.47  144139671   \n",
       "2022-02-14  115.510  118.3700  113.4600  114.27  135146410   \n",
       "2022-02-11  126.140  127.1699  111.8100  113.18  164723241   \n",
       "2022-02-10  128.840  131.7589  124.6100  125.77  108939859   \n",
       "2022-02-09  129.600  132.9600  127.6500  132.85   92948862   \n",
       "2022-02-08  122.380  128.7050  122.0500  128.23   84902753   \n",
       "2022-02-07  123.560  127.6300  122.7850  123.67   81672504   \n",
       "2022-02-04  120.340  124.9600  118.5800  123.60   86212008   \n",
       "2022-02-03  120.320  125.3700  118.8160  120.08  103599467   \n",
       "2022-02-02  129.970  130.0600  120.6400  122.76  180064993   \n",
       "2022-02-01  116.750  117.2600  112.7300  116.78  122467874   \n",
       "2022-01-31  107.930  114.3100  106.9000  114.25   97205994   \n",
       "2022-01-28  101.550  105.4000   99.3500  105.24   98749521   \n",
       "2022-01-27  111.960  112.7500  101.9400  102.60  125954124   \n",
       "2022-01-26  114.550  117.1600  108.6300  110.71   94752613   \n",
       "2022-01-25  114.100  114.8200  109.8600  111.13   85102907   \n",
       "2022-01-24  115.400  116.7700  107.5000  116.53  116301816   \n",
       "2022-01-21  120.140  125.0200  118.3900  118.81   95685268   \n",
       "2022-01-20  126.040  128.5100  121.4100  121.89   91157293   \n",
       "2022-01-19  133.550  134.5700  128.0200  128.27   69831849   \n",
       "2022-01-18  134.500  136.3893  131.5900  131.93   56589456   \n",
       "2022-01-14  131.680  137.0000  131.4300  136.88   71078438   \n",
       "2022-01-13  139.440  141.2500  131.8100  132.74   76618059   \n",
       "2022-01-12  138.585  140.5700  135.7700  137.47   69669598   \n",
       "\n",
       "            Open:30 days rolling  \n",
       "Date                              \n",
       "2022-02-25                   NaN  \n",
       "2022-02-24                   NaN  \n",
       "2022-02-23                   NaN  \n",
       "2022-02-22                   NaN  \n",
       "2022-02-18                   NaN  \n",
       "2022-02-17                   NaN  \n",
       "2022-02-16                   NaN  \n",
       "2022-02-15                   NaN  \n",
       "2022-02-14                   NaN  \n",
       "2022-02-11                   NaN  \n",
       "2022-02-10                   NaN  \n",
       "2022-02-09                   NaN  \n",
       "2022-02-08                   NaN  \n",
       "2022-02-07                   NaN  \n",
       "2022-02-04                   NaN  \n",
       "2022-02-03                   NaN  \n",
       "2022-02-02                   NaN  \n",
       "2022-02-01                   NaN  \n",
       "2022-01-31                   NaN  \n",
       "2022-01-28                   NaN  \n",
       "2022-01-27                   NaN  \n",
       "2022-01-26                   NaN  \n",
       "2022-01-25                   NaN  \n",
       "2022-01-24                   NaN  \n",
       "2022-01-21                   NaN  \n",
       "2022-01-20                   NaN  \n",
       "2022-01-19                   NaN  \n",
       "2022-01-18                   NaN  \n",
       "2022-01-14                   NaN  \n",
       "2022-01-13            120.168000  \n",
       "2022-01-12            120.882167  "
      ]
     },
     "execution_count": 87,
     "metadata": {},
     "output_type": "execute_result"
    }
   ],
   "source": [
    "df_amd.head(31)"
   ]
  },
  {
   "cell_type": "code",
   "execution_count": 89,
   "id": "another-collins",
   "metadata": {},
   "outputs": [
    {
     "data": {
      "text/plain": [
       "<matplotlib.axes._subplots.AxesSubplot at 0x7f5ae0f6f880>"
      ]
     },
     "execution_count": 89,
     "metadata": {},
     "output_type": "execute_result"
    },
    {
     "data": {
      "image/png": "[encoded data removed]",
      "text/plain": [
       "<Figure size 864x360 with 1 Axes>"
      ]
     },
     "metadata": {
      "needs_background": "light"
     },
     "output_type": "display_data"
    }
   ],
   "source": [
    "df_amd[['Open','Open:30 days rolling']].plot(figsize=(12,5))"
   ]
  },
  {
   "cell_type": "code",
   "execution_count": null,
   "id": "acquired-tutorial",
   "metadata": {},
   "outputs": [],
   "source": []
  },
  {
   "cell_type": "code",
   "execution_count": null,
   "id": "divided-dominant",
   "metadata": {},
   "outputs": [],
   "source": []
  }
 ],
 "metadata": {
  "kernelspec": {
   "display_name": "Python 3",
   "language": "python",
   "name": "python3"
  },
  "language_info": {
   "codemirror_mode": {
    "name": "ipython",
    "version": 3
   },
   "file_extension": ".py",
   "mimetype": "text/x-python",
   "name": "python",
   "nbconvert_exporter": "python",
   "pygments_lexer": "ipython3",
   "version": "3.8.10"
  }
 },
 "nbformat": 4,
 "nbformat_minor": 5
}
